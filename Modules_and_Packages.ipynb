{
  "nbformat": 4,
  "nbformat_minor": 0,
  "metadata": {
    "colab": {
      "provenance": []
    },
    "kernelspec": {
      "name": "python3",
      "display_name": "Python 3"
    }
  },
  "cells": [
    {
      "cell_type": "markdown",
      "metadata": {
        "id": "qgvaBu7TIOkN"
      },
      "source": [
        "##Question 1 :\n",
        "Take a date as input and find what the day is on that date.\n",
        "#####Input Format: A single line of input containing the space separated month, day and year, respectively, in MM DD YYYY format.\n",
        "#####Output Format: Output the correct day in capital letters.\n",
        "#####Sample Input: 08 05 2015\n",
        "#####Sample Output: WEDNESDAY\n",
        "#####Explanation: The day on August 5th 2015 was WEDNESDAY.\n",
        "#####Reference link : https://docs.python.org/3/library/calendar.html"
      ]
    },
    {
      "cell_type": "code",
      "metadata": {
        "id": "vyyo4YtpgLeQ"
      },
      "source": [
        "from statistics import mean,harmonic_mean,median_low,median_high,mode\n",
        "from datetime import datetime,timedelta"
      ],
      "execution_count": null,
      "outputs": []
    },
    {
      "cell_type": "code",
      "metadata": {
        "id": "H53c9XU-E09q",
        "colab": {
          "base_uri": "https://localhost:8080/",
          "height": 50
        },
        "outputId": "1ed05373-9602-4823-cf30-7ae627fd3f53"
      },
      "source": [
        "# !pip install datetime\n",
        "\n",
        "month,day,year=map(int,input(\"Enter date in MM DD YYYY format: \").strip().split(\" \"))\n",
        "\n",
        "day_out=datetime(year,day,month).strftime(\"%A\").upper()\n",
        "\n",
        "print(day_out)"
      ],
      "execution_count": null,
      "outputs": [
        {
          "output_type": "stream",
          "text": [
            "Enter date in MM DD YYYY format: 08 05 2015\n",
            "FRIDAY\n"
          ],
          "name": "stdout"
        }
      ]
    },
    {
      "cell_type": "markdown",
      "metadata": {
        "id": "b0zmyGehVyf3"
      },
      "source": [
        "##Question 2 :\n",
        "Take a list of integers as an input and find mean(), harmonic_mean(), median_low(), median_high() and mode().\n",
        "#####Reference link : https://docs.python.org/3/library/statistics.html#module-statistics"
      ]
    },
    {
      "cell_type": "code",
      "metadata": {
        "id": "SLPYyjm2Y3U3",
        "colab": {
          "base_uri": "https://localhost:8080/",
          "height": 134
        },
        "outputId": "6706356a-b98d-4683-810a-e00b33085411"
      },
      "source": [
        "# Write your solution here.\n",
        "# !pip install statistics\n",
        "\n",
        "int_in=list(map(int,input(\"Enter list of integers (space separated): \").strip().split()))\n",
        "\n",
        "mean_out=mean(int_in)\n",
        "hmean_out=harmonic_mean(int_in)\n",
        "med_low=median_low(int_in)\n",
        "med_high=median_high(int_in)\n",
        "try:\n",
        "  mod=mode(int_in)\n",
        "except :\n",
        "  mod=\"no unique mode; found more than 1 equally common values\"\n",
        "\n",
        "print(\" Mean:{}\\n Harmonic Mean:{}\\n Median High:{}\\n Median Low:{}\\n Mode:{}\\n\".format(mean_out,hmean_out,med_low,med_high,mod))\n"
      ],
      "execution_count": null,
      "outputs": [
        {
          "output_type": "stream",
          "text": [
            "Enter list of integers (space separated): 1 5 4 3 2 8 6 4 3 4 4\n",
            " Mean:4\n",
            " Harmonic Mean:3.0068337129840548\n",
            " Median High:4\n",
            " Median Low:4\n",
            " Mode:4\n",
            "\n"
          ],
          "name": "stdout"
        }
      ]
    },
    {
      "cell_type": "markdown",
      "metadata": {
        "id": "Wp5Z2yPdY71I"
      },
      "source": [
        "##Question 3 :\n",
        "Take a date as an input and display following DateTime formats.\n",
        "#####a) Current date and time\n",
        "#####b) Current year\n",
        "#####c) Month of year\n",
        "#####d) Week number of the year\n",
        "#####e) Weekday of the week\n",
        "#####f) Day of year\n",
        "#####g) Day of the month\n",
        "#####h) Day of week\n",
        "\n",
        "Reference link : https://docs.python.org/3/library/datetime.html#module-datetime"
      ]
    },
    {
      "cell_type": "code",
      "metadata": {
        "id": "6HdtNJwVfdGO",
        "colab": {
          "base_uri": "https://localhost:8080/",
          "height": 319
        },
        "outputId": "302b0522-1e27-43bb-ed1e-12dfd0bf2c51"
      },
      "source": [
        "# Write your solution here.\n",
        "\n",
        "day,month,year=map(int,input(\"Enter Date as DD MM YYYY: \").strip().split())\n",
        "\n",
        "x=datetime(year,month,day)\n",
        "today=datetime.now()\n",
        "print(\"Current Date and time: \",today)\n",
        "print(\"Current year: \",today.strftime(\"%Y\"))\n",
        "print(\"Month of year: \",today.strftime(\"%B\"))\n",
        "print(\"Week number of the year: \",today.strftime(\"%U\"))\n",
        "print(\"Weekday of the week: \",today.strftime(\"%w\"))\n",
        "print(\"Day of year: \",today.strftime(\"%j\"))\n",
        "print(\"Day of the month: \",today.strftime(\"%d\"))\n",
        "print(\"Day of week: \",today.strftime(\"%A\"))\n",
        "\n",
        "print(\"\\nFor\",x,\": \")\n",
        "print(\"Year: \",x.strftime(\"%Y\"))\n",
        "print(\"Month of year: \",x.strftime(\"%B\"))\n",
        "print(\"Week number of the year: \",x.strftime(\"%U\"))\n",
        "print(\"Weekday of the week: \",x.strftime(\"%w\"))\n",
        "print(\"Day of year: \",x.strftime(\"%j\"))\n",
        "print(\"Day of the month: \",x.strftime(\"%d\"))\n",
        "print(\"Day of week: \",x.strftime(\"%A\"))\n"
      ],
      "execution_count": null,
      "outputs": [
        {
          "output_type": "stream",
          "text": [
            "Enter Date as DD MM YYYY: 28 06 1998\n",
            "Current Date and time:  2020-08-13 15:49:05.735529\n",
            "Current year:  2020\n",
            "Month of year:  August\n",
            "Week number of the year:  32\n",
            "Weekday of the week:  4\n",
            "Day of year:  226\n",
            "Day of the month:  13\n",
            "Day of week:  Thursday\n",
            "\n",
            "For 1998-06-28 00:00:00 : \n",
            "Year:  1998\n",
            "Month of year:  June\n",
            "Week number of the year:  26\n",
            "Weekday of the week:  0\n",
            "Day of year:  179\n",
            "Day of the month:  28\n",
            "Day of week:  Sunday\n"
          ],
          "name": "stdout"
        }
      ]
    },
    {
      "cell_type": "markdown",
      "metadata": {
        "id": "FJeXa2HCffkT"
      },
      "source": [
        "##Question 4 :\n",
        "Write a code to convert a string to datetime.\n",
        "#####Sample input : Jan 1 2014 2:43PM\n",
        "#####Sample Output : 2014-07-01 14:43:00"
      ]
    },
    {
      "cell_type": "code",
      "metadata": {
        "id": "hr_tCOGlf_J7",
        "colab": {
          "base_uri": "https://localhost:8080/",
          "height": 50
        },
        "outputId": "55e80d81-5a95-4af5-84e4-f6b546275a83"
      },
      "source": [
        "# Write your solution here.\n",
        "datetime_in=input(\"Enter Date & Time: \").strip()\n",
        "datetime_out = datetime.strptime(datetime_in, '%b %d %Y %I:%M%p')\n",
        "print(datetime_out)"
      ],
      "execution_count": null,
      "outputs": [
        {
          "output_type": "stream",
          "text": [
            "Enter Date & Time:  Jan 1 2014 2:43PM\n",
            "2014-01-01 14:43:00\n"
          ],
          "name": "stdout"
        }
      ]
    },
    {
      "cell_type": "markdown",
      "metadata": {
        "id": "rjvMPrWHgBsW"
      },
      "source": [
        "##Question 5 :\n",
        "Write a code to subtract five days from current date.\n",
        "#####Sample Current Date : 2015-06-22\n",
        "#####5 days before Current Date : 2015-06-17"
      ]
    },
    {
      "cell_type": "code",
      "metadata": {
        "id": "uP_GUTGOgmOH",
        "colab": {
          "base_uri": "https://localhost:8080/",
          "height": 50
        },
        "outputId": "a1fbd080-200f-46e3-f906-ae8c423b0ed3"
      },
      "source": [
        "# Write your solution here.\n",
        "x=datetime.today()\n",
        "print(\"Current Date: \",x.date())\n",
        "d = x - timedelta(days=5)\n",
        "print(\"5 days before Current Date: \",d.date())"
      ],
      "execution_count": null,
      "outputs": [
        {
          "output_type": "stream",
          "text": [
            "Current Date:  2020-08-13\n",
            "5 days before Current Date:  2020-08-08\n"
          ],
          "name": "stdout"
        }
      ]
    },
    {
      "cell_type": "markdown",
      "metadata": {
        "id": "z-mUEmo_iC8L"
      },
      "source": [
        "##Question 6 :\n",
        "Write a code that accepts a comma separated sequence of words as input and prints the unique words in sorted form (alphanumerically).\n",
        "#####Sample Words : red, white, black, red, green, black\n",
        "#####Expected Result : black, green, red, white\n",
        "\n",
        "Reference link : https://docs.python.org/3/library/string.html#module-string"
      ]
    },
    {
      "cell_type": "code",
      "metadata": {
        "id": "KK7cPPIMig4F",
        "colab": {
          "base_uri": "https://localhost:8080/",
          "height": 50
        },
        "outputId": "78bbb8db-a4bd-4bb3-948c-baf65b04ad40"
      },
      "source": [
        "# Write your solution here.\n",
        "list_out=[]\n",
        "string_list=list(input(\"Enter comma separated words : \").split(\",\"))\n",
        "\n",
        "# Remove white spaces\n",
        "string_list=[i.strip() for i in string_list]\n",
        "# Append to new list if not already present\n",
        "[i and list_out.append(i) for i in string_list if i not in list_out]\n",
        "\n",
        "print(sorted(list_out))\n"
      ],
      "execution_count": null,
      "outputs": [
        {
          "output_type": "stream",
          "text": [
            "Enter comma separated words : red, white, black, red, green, black\n",
            "['black', 'green', 'red', 'white']\n"
          ],
          "name": "stdout"
        }
      ]
    },
    {
      "cell_type": "markdown",
      "metadata": {
        "id": "_g3H9jTXlEzC"
      },
      "source": [
        "##Question 7 :\n",
        "Create a module file with three functions -\n",
        "#####a) To return number of uppercase letters - def uppercase(str):\n",
        "#####b) To return number of lowercase letters - def lowercase(str):\n",
        "#####c) To return number of vowels - def vowel(str):\n",
        "\n",
        "#####Save the module file as modstring.py  \n",
        "#####Write a code that takes a string as an input. Import the modstring.py module and execute all three functions.\n",
        "\n",
        "#####Reference link (To import module file in Colaboratory) : https://www.pingshiuanchua.com/blog/post/importing-your-own-python-module-or-python-file-in-colaboratory"
      ]
    },
    {
      "cell_type": "code",
      "metadata": {
        "id": "whs0fyumELKx",
        "colab": {
          "base_uri": "https://localhost:8080/",
          "height": 34
        },
        "outputId": "f53f8353-0bfe-4221-a584-7c300eb2de3f"
      },
      "source": [
        "from google.colab import drive\n",
        "drive.mount('/content/drive')\n",
        "\n",
        "import sys\n",
        "sys.path.append('/content/drive/My Drive/\"Colab Notebooks\"')\n",
        "\n",
        "from modstring import *"
      ],
      "execution_count": null,
      "outputs": [
        {
          "output_type": "stream",
          "text": [
            "Drive already mounted at /content/drive; to attempt to forcibly remount, call drive.mount(\"/content/drive\", force_remount=True).\n"
          ],
          "name": "stdout"
        }
      ]
    },
    {
      "cell_type": "code",
      "metadata": {
        "id": "w0LpEdQKefGL",
        "colab": {
          "base_uri": "https://localhost:8080/",
          "height": 84
        },
        "outputId": "4d5bc33b-ec72-4df7-e641-0e62ad7d78df"
      },
      "source": [
        "\n",
        "str_in=input(\"Enter a string: \").strip()\n",
        "\n",
        "print(\"Uppercase Letters: \",uppercase(str_in))\n",
        "print(\"Lowercase Letters: \",lowercase(str_in))\n",
        "print(\"Vowels: \",vowel(str_in))\n"
      ],
      "execution_count": null,
      "outputs": [
        {
          "output_type": "stream",
          "text": [
            "Enter a string: AbcdefhGH\n",
            "Uppercase Letters:  3\n",
            "Lowercase Letters:  6\n",
            "Vowels:  1\n"
          ],
          "name": "stdout"
        }
      ]
    },
    {
      "cell_type": "markdown",
      "metadata": {
        "id": "01l6W_6tnLOc"
      },
      "source": [
        "##Question 8 :\n",
        "Create a module file with three functions -\n",
        "#####a) Write Fibonacci series up to n - def fibonacci(n):\n",
        "#####b) Find if n is even or odd number - def evenodd(n):\n",
        "#####c) Find if n is a prime number - def prime(n):\n",
        "\n",
        "#####Save the module file as modinteger.py  \n",
        "#####Write a code that takes an integer as an input. Import the modinteger.py module and execute all three functions.\n",
        "\n",
        "#####Reference link (To import module file in Colaboratory) : https://www.pingshiuanchua.com/blog/post/importing-your-own-python-module-or-python-file-in-colaboratory"
      ]
    },
    {
      "cell_type": "code",
      "metadata": {
        "id": "O2WAPehDqays",
        "colab": {
          "base_uri": "https://localhost:8080/",
          "height": 34
        },
        "outputId": "0b10bc4a-630e-4cec-b2cd-6e460834662e"
      },
      "source": [
        "# Write your solution here.\n",
        "\n",
        "drive.mount(\"/content/drive\", force_remount=True)\n",
        "from modinteger import *\n"
      ],
      "execution_count": null,
      "outputs": [
        {
          "output_type": "stream",
          "text": [
            "Mounted at /content/drive\n"
          ],
          "name": "stdout"
        }
      ]
    },
    {
      "cell_type": "code",
      "metadata": {
        "id": "Je_Eyqr6fFNS",
        "colab": {
          "base_uri": "https://localhost:8080/",
          "height": 84
        },
        "outputId": "fd5b7b9a-6df5-4f55-fc17-336089b4e02f"
      },
      "source": [
        "n=int(input(\"Enter an integer: \").strip())\n",
        "\n",
        "print(\"Febonacci Series:\",fibonacci(n) )\n",
        "print(\"Even or Odd: \",evenodd(n))\n",
        "print(\"Is a Prime Number: \",prime(n))\n"
      ],
      "execution_count": null,
      "outputs": [
        {
          "output_type": "stream",
          "text": [
            "Enter an integer: 22\n",
            "Febonacci Series: [0, 1, 1, 3, 5, 7, 9, 11, 13, 15, 17, 19, 21]\n",
            "Even or Odd:  even\n",
            "Is a Prime Number:  False\n"
          ],
          "name": "stdout"
        }
      ]
    },
    {
      "cell_type": "code",
      "metadata": {
        "id": "_0ZtUY3VuABS"
      },
      "source": [],
      "execution_count": null,
      "outputs": []
    },
    {
      "cell_type": "code",
      "metadata": {
        "id": "5EqNzdcuAdPZ"
      },
      "source": [],
      "execution_count": null,
      "outputs": []
    }
  ]
}