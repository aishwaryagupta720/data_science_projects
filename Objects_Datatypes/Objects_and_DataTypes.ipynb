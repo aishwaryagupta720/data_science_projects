{
  "nbformat": 4,
  "nbformat_minor": 0,
  "metadata": {
    "colab": {
      "provenance": []
    },
    "kernelspec": {
      "name": "python3",
      "display_name": "Python 3"
    }
  },
  "cells": [
    {
      "cell_type": "markdown",
      "metadata": {
        "id": "jdRPwK8ueqhP"
      },
      "source": [
        "Q.1 Iterate through the given list and create a new list that contains numbers divisible by 6. Also Sort the list obtained."
      ]
    },
    {
      "cell_type": "code",
      "metadata": {
        "id": "gIHOaa89fOlM",
        "colab": {
          "base_uri": "https://localhost:8080/",
          "height": 34
        },
        "outputId": "d7ecb963-e770-4b0e-9a9e-517639be0033"
      },
      "source": [
        "\n",
        "listv=[7,2,12,35,48,6,15,60,14,24]\n",
        "output=[]\n",
        "\n",
        "# code to create a new list\n",
        "\n",
        "# filter return the filtered list using the test condition provided by lambda (if x/ 6 gives remainder 0)\n",
        "output=filter(lambda x: x%6==0,listv)\n",
        "print(sorted(output))\n",
        "\n",
        "    #expected output=[6,12,24,48,60]"
      ],
      "execution_count": null,
      "outputs": [
        {
          "output_type": "stream",
          "text": [
            "[6, 12, 24, 48, 60]\n"
          ],
          "name": "stdout"
        }
      ]
    },
    {
      "cell_type": "markdown",
      "metadata": {
        "id": "wlGMXMqhfhPp"
      },
      "source": [
        "Q.2 Write a Python script to generate and print a dictionary that contains a number (between 1 and n) in the form (x, x * x * x).\n",
        "Sample Dictionary ( n = 3) :\n",
        "Expected Output : {1: 1, 2: 8, 3: 27}"
      ]
    },
    {
      "cell_type": "code",
      "metadata": {
        "id": "bpf5NB-ShBrd",
        "colab": {
          "base_uri": "https://localhost:8080/",
          "height": 50
        },
        "outputId": "768fac05-2c7a-4b9e-8b99-4a13617f9d67"
      },
      "source": [
        "#code to create a dictionary\n",
        "\n",
        "#input from user\n",
        "x=int(input(\"Number between 1 and n?\"))\n",
        "my_dict ={}\n",
        "\n",
        "for i in range(1,x+1):\n",
        "  #iterating from 1 to n\n",
        "  my_dict.update({i:i*i*i})\n",
        "\n",
        "print(my_dict)"
      ],
      "execution_count": null,
      "outputs": [
        {
          "output_type": "stream",
          "text": [
            "Number between 1 and n?5\n",
            "{1: 1, 2: 8, 3: 27, 4: 64, 5: 125}\n"
          ],
          "name": "stdout"
        }
      ]
    },
    {
      "cell_type": "markdown",
      "metadata": {
        "id": "6QjP9T6SfpRC"
      },
      "source": [
        "Q.3 Create a new list which contains reverse of every string in given list.\n",
        "eg. str_list=['hello','bye'] expected output=['olleh','eyb']"
      ]
    },
    {
      "cell_type": "code",
      "metadata": {
        "id": "9_U8Tl0AgAAy",
        "colab": {
          "base_uri": "https://localhost:8080/",
          "height": 50
        },
        "outputId": "89c2e038-b416-4372-973a-fbd52c84994d"
      },
      "source": [
        "#code to reverse each string in list\n",
        "\n",
        "string1= ['today','is', 'a','good','day']\n",
        "string2=[]\n",
        "\n",
        "for x in string1:\n",
        "  # count backwards\n",
        "  string2.append(x[::-1])\n",
        "print(string2)\n",
        "\n",
        "# Alternate code\n",
        "s=list(map(lambda x:\"\".join(reversed(x)),string1))\n",
        "print(s)"
      ],
      "execution_count": null,
      "outputs": [
        {
          "output_type": "stream",
          "text": [
            "['yadot', 'si', 'a', 'doog', 'yad']\n",
            "['yadot', 'si', 'a', 'doog', 'yad']\n"
          ],
          "name": "stdout"
        }
      ]
    },
    {
      "cell_type": "markdown",
      "metadata": {
        "id": "exeobj_5hOK6"
      },
      "source": [
        "Q.4 Write a code to convert the given tuple elements into one string. Note : Donot use any predefined funcions.\n",
        "t=('Q','u','a','n','t','i','p','h','i')\n",
        "Also create a list of unique characters of tuple."
      ]
    },
    {
      "cell_type": "code",
      "metadata": {
        "id": "YbQhDQmjjexP",
        "colab": {
          "base_uri": "https://localhost:8080/",
          "height": 34
        },
        "outputId": "b1135537-f42c-444c-9085-3d6e2606f7d2"
      },
      "source": [
        "t=('Q','u','a','n','t','i','p','h','i')\n",
        "strout=\"\"\n",
        "listout=[]\n",
        "# code to create a string of all elements un tuple\n",
        "\n",
        "for i in t:\n",
        "  # append character to end of string\n",
        "  strout=strout+i\n",
        "\n",
        "# comprehension to add unique values to list\n",
        "[listout.append(i) for i in t if i not in listout]\n",
        "\n",
        "print(strout,listout)\n"
      ],
      "execution_count": null,
      "outputs": [
        {
          "output_type": "stream",
          "text": [
            "Quantiphi ['Q', 'u', 'a', 'n', 't', 'i', 'p', 'h']\n"
          ],
          "name": "stdout"
        }
      ]
    },
    {
      "cell_type": "markdown",
      "metadata": {
        "id": "UoA8-WtLjdtL"
      },
      "source": [
        "Q.5 Write a Python program to print number of elements in list having string length as 4. Also print number of strings having same first and last character.\n",
        "eg. input_list=['abr','cgcc','oudh','uiu','ytsy','poqw']\n",
        "Expected Output: Number of strings with length 4 = 3\n",
        "Number of strings having same first & last character = 3"
      ]
    },
    {
      "cell_type": "code",
      "metadata": {
        "id": "2N5vEFArlUZZ",
        "colab": {
          "base_uri": "https://localhost:8080/",
          "height": 34
        },
        "outputId": "123d6d8d-2262-4ff3-aa8d-958c8ea2e44e"
      },
      "source": [
        "input_list=['abcc','aba','abba','cbac','bcb','aacb','bbc','ccc']\n",
        "# code\n",
        "n1=0\n",
        "n2=0\n",
        "\n",
        "for n in input_list:\n",
        "  if len(n)==4: n1=n1+1\n",
        "  if n[0]==n[-1]: n2=n2+1\n",
        "\n",
        "print(\"Number of strings with length 4 = \",n1,\" Number of strings having same first & last character = \",n2)\n",
        "\n",
        "# n1= #number of strings with length 4\n",
        "# n2= #number of strings having same first & last character"
      ],
      "execution_count": null,
      "outputs": [
        {
          "output_type": "stream",
          "text": [
            "Number of strings with length 4 =  4  Number of strings having same first & last character =  5\n"
          ],
          "name": "stdout"
        }
      ]
    },
    {
      "cell_type": "markdown",
      "metadata": {
        "id": "3owl5gNzluP-"
      },
      "source": [
        "Q.6 Write a program to generate sub list of a list.\n",
        "eg l=['P','H','I'] Expected output: l1=[[],['P'],['H'],['I'],['P','H'],['H','I'],['P','I'],['P','H','I']]"
      ]
    },
    {
      "cell_type": "code",
      "metadata": {
        "id": "mrLA-YIVmtlS",
        "colab": {
          "base_uri": "https://localhost:8080/",
          "height": 34
        },
        "outputId": "74d78af5-5b9c-472e-e451-076b8e19b8f6"
      },
      "source": [
        "l=['P','H','I']\n",
        "ans_list=[]\n",
        "\n",
        "# your code\n",
        "def power(l , index , subs):\n",
        "\n",
        "    if index == len(l):\n",
        "        ans_list.append([i for i in subs ])\n",
        "        return\n",
        "\n",
        "    power(l, index + 1, subs + l[index])\n",
        "    power(l, index + 1, subs)\n",
        "\n",
        "# index is of list l\n",
        "index = 0\n",
        "# subs stores current subset\n",
        "subs=\"\"\n",
        "\n",
        "power(l, index , subs)\n",
        "\n",
        "print(ans_list)\n",
        "# ans_list= #expected output as a list"
      ],
      "execution_count": null,
      "outputs": [
        {
          "output_type": "stream",
          "text": [
            "[['P', 'H', 'I'], ['P', 'H'], ['P', 'I'], ['P'], ['H', 'I'], ['H'], ['I'], []]\n"
          ],
          "name": "stdout"
        }
      ]
    },
    {
      "cell_type": "markdown",
      "metadata": {
        "id": "qUlVIG0efNne"
      },
      "source": [
        "Q.7 Write a Python program to count the number of characters in a string. Go to the editor\n",
        "Sample String : 'google.com'\n",
        "Expected Result : {'o': 3, 'g': 2, '.': 1, 'e': 1, 'l': 1, 'm': 1, 'c': 1}\n",
        "Note that number of spaces in string should not be included in dictionary."
      ]
    },
    {
      "cell_type": "code",
      "metadata": {
        "id": "j-v7FrhjfYEF",
        "colab": {
          "base_uri": "https://localhost:8080/",
          "height": 34
        },
        "outputId": "d461f3b6-bf1d-407f-f95f-66818a0a6b76"
      },
      "source": [
        "str1='Data science is to extract meaningful insights from data'\n",
        "#your code\n",
        "str1=str1.lower()\n",
        "letters=[]\n",
        "count=[]\n",
        "\n",
        "#comprehension for appending letters to list that arent present in it and are not whitespace\n",
        "[letters.append(x) for x in str1 if x not in letters and not x.isspace()]\n",
        "\n",
        "#initialising count list to 0 and length of letter list\n",
        "count=[0]*len(letters)\n",
        "\n",
        "for ch in str1:\n",
        "  if(not ch.isspace()):\n",
        "    # increment number in count list at same index as of character in letter list\n",
        "    count[letters.index(ch)]=count[letters.index(ch)]+1\n",
        "\n",
        "# letter and count at corresponding index form key:value\n",
        "ans_dict={letters[i]:count[i] for i in range(len(letters))}\n",
        "print(ans_dict)"
      ],
      "execution_count": null,
      "outputs": [
        {
          "output_type": "stream",
          "text": [
            "{'d': 2, 'a': 6, 't': 6, 's': 4, 'c': 3, 'i': 5, 'e': 4, 'n': 4, 'o': 2, 'x': 1, 'r': 2, 'm': 2, 'g': 2, 'f': 2, 'u': 1, 'l': 1, 'h': 1}\n"
          ],
          "name": "stdout"
        }
      ]
    }
  ]
}