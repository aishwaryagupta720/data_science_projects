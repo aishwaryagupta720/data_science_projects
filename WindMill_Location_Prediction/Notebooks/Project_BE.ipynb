{
  "cells": [
    {
      "cell_type": "code",
      "execution_count": null,
      "metadata": {
        "id": "Z1Kuhx226icn"
      },
      "outputs": [],
      "source": [
        "import tensorflow as tf\n",
        "import numpy as np\n",
        "import pandas as pd\n",
        "import os\n",
        "from tensorflow import keras\n",
        "from tensorflow.keras.layers import Dense, Conv2D, Flatten, Dropout, MaxPooling2D"
      ]
    },
    {
      "cell_type": "code",
      "execution_count": null,
      "metadata": {
        "id": "wUe6iAcC6icq"
      },
      "outputs": [],
      "source": [
        "os.chdir(\"D:\\Datasets\\deepsat-sat6\")"
      ]
    },
    {
      "cell_type": "code",
      "execution_count": null,
      "metadata": {
        "id": "gCmVqX3N6icr"
      },
      "outputs": [],
      "source": [
        "x_train = pd.read_csv(tf.gfile.Open('X_train_sat6.csv'), header = None)\n",
        "y_train = pd.read_csv(tf.gfile.Open('Y_train_sat6.csv'), header = None)\n",
        "x_train = x_train.values.reshape(x_train.shape[0],28,28,4).astype(np.float32)\n",
        "y_train = y_train.values.astype(np.float32)"
      ]
    },
    {
      "cell_type": "code",
      "execution_count": null,
      "metadata": {
        "id": "iwd1m5dw6icr"
      },
      "outputs": [],
      "source": [
        "x_eval = pd.read_csv(tf.gfile.Open('X_test_sat6.csv'), header = None)\n",
        "y_eval = pd.read_csv(tf.gfile.Open('Y_test_sat6.csv'), header = None)\n",
        "x_eval = x_eval.values.reshape(x_eval.shape[0],28,28,4).astype(np.float32)\n",
        "y_eval = y_eval.values.astype(np.float32)"
      ]
    },
    {
      "cell_type": "code",
      "execution_count": null,
      "metadata": {
        "id": "P96Nvh9S6icr"
      },
      "outputs": [],
      "source": [
        "model = keras.Sequential([\n",
        "    Conv2D(16, 3, padding = 'same', activation = 'relu', input_shape=(28,28,4)),\n",
        "    Conv2D(32, 3, padding = 'same', activation = 'relu'),\n",
        "    MaxPooling2D(),\n",
        "    Dropout(0.5),\n",
        "    Conv2D(32, 3, padding = 'same', activation = 'relu'),\n",
        "    MaxPooling2D(),\n",
        "    Conv2D(64, 3, padding = 'same', activation = 'relu'),\n",
        "    MaxPooling2D(),\n",
        "    Dropout(0.5),\n",
        "    Flatten(),\n",
        "    Dense(512, activation = 'relu'),\n",
        "    Dropout(0.5),\n",
        "    Dense(6,activation = 'softmax')\n",
        "\n",
        "])"
      ]
    },
    {
      "cell_type": "code",
      "execution_count": null,
      "metadata": {
        "id": "YGzOLnx-6ics"
      },
      "outputs": [],
      "source": [
        "model.compile(loss = 'categorical_crossentropy', optimizer = 'adam', metrics = ['accuracy'])"
      ]
    },
    {
      "cell_type": "code",
      "execution_count": null,
      "metadata": {
        "id": "0OBnUpb46ics",
        "outputId": "481893c6-8041-4e45-d1b4-5d7f9f607d41"
      },
      "outputs": [
        {
          "name": "stdout",
          "output_type": "stream",
          "text": [
            "Model: \"sequential_3\"\n",
            "_________________________________________________________________\n",
            "Layer (type)                 Output Shape              Param #   \n",
            "=================================================================\n",
            "conv2d_12 (Conv2D)           (None, 28, 28, 16)        592       \n",
            "_________________________________________________________________\n",
            "conv2d_13 (Conv2D)           (None, 28, 28, 32)        4640      \n",
            "_________________________________________________________________\n",
            "max_pooling2d_10 (MaxPooling (None, 14, 14, 32)        0         \n",
            "_________________________________________________________________\n",
            "dropout_9 (Dropout)          (None, 14, 14, 32)        0         \n",
            "_________________________________________________________________\n",
            "conv2d_14 (Conv2D)           (None, 14, 14, 32)        9248      \n",
            "_________________________________________________________________\n",
            "max_pooling2d_11 (MaxPooling (None, 7, 7, 32)          0         \n",
            "_________________________________________________________________\n",
            "conv2d_15 (Conv2D)           (None, 7, 7, 64)          18496     \n",
            "_________________________________________________________________\n",
            "max_pooling2d_12 (MaxPooling (None, 3, 3, 64)          0         \n",
            "_________________________________________________________________\n",
            "dropout_10 (Dropout)         (None, 3, 3, 64)          0         \n",
            "_________________________________________________________________\n",
            "flatten_3 (Flatten)          (None, 576)               0         \n",
            "_________________________________________________________________\n",
            "dense_6 (Dense)              (None, 512)               295424    \n",
            "_________________________________________________________________\n",
            "dropout_11 (Dropout)         (None, 512)               0         \n",
            "_________________________________________________________________\n",
            "dense_7 (Dense)              (None, 6)                 3078      \n",
            "=================================================================\n",
            "Total params: 331,478\n",
            "Trainable params: 331,478\n",
            "Non-trainable params: 0\n",
            "_________________________________________________________________\n",
            "None\n"
          ]
        }
      ],
      "source": [
        "print(model.summary())"
      ]
    },
    {
      "cell_type": "code",
      "execution_count": null,
      "metadata": {
        "id": "38ltJRzv6icu"
      },
      "outputs": [],
      "source": [
        "tensorboard_cb = TensorBoard(log_dir = './Graph/', histogram_freq = 1, write_graph = True, write_grads = True)\n",
        "model.fit(x_train, y_train, batch_size = 512, epoch = 4, verbose = 1, validation_data(x_eval,y_eval), callbacks = [tensorboard_cb])"
      ]
    }
  ],
  "metadata": {
    "kernelspec": {
      "display_name": "Python 3",
      "language": "python",
      "name": "python3"
    },
    "language_info": {
      "codemirror_mode": {
        "name": "ipython",
        "version": 3
      },
      "file_extension": ".py",
      "mimetype": "text/x-python",
      "name": "python",
      "nbconvert_exporter": "python",
      "pygments_lexer": "ipython3",
      "version": "3.7.3"
    },
    "colab": {
      "provenance": []
    }
  },
  "nbformat": 4,
  "nbformat_minor": 0
}