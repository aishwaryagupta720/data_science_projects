{
  "nbformat": 4,
  "nbformat_minor": 0,
  "metadata": {
    "kernelspec": {
      "display_name": "Python 3",
      "language": "python",
      "name": "python3"
    },
    "language_info": {
      "codemirror_mode": {
        "name": "ipython",
        "version": 3
      },
      "file_extension": ".py",
      "mimetype": "text/x-python",
      "name": "python",
      "nbconvert_exporter": "python",
      "pygments_lexer": "ipython3",
      "version": "3.7.3"
    },
    "colab": {
      "provenance": [],
      "machine_shape": "hm"
    }
  },
  "cells": [
    {
      "cell_type": "code",
      "metadata": {
        "id": "SDsSuk1DOMcJ"
      },
      "source": [
        "import tensorflow as tf\n",
        "%load_ext tensorboard\n",
        "import numpy as np\n",
        "import pandas as pd\n",
        "import os\n",
        "from tensorflow import keras\n",
        "from tensorflow.keras.layers import Dense, Conv2D, Flatten, Dropout, MaxPooling2D\n",
        "import matplotlib"
      ],
      "execution_count": null,
      "outputs": []
    },
    {
      "cell_type": "code",
      "metadata": {
        "id": "YWKVItz8OMcQ",
        "colab": {
          "base_uri": "https://localhost:8080/",
          "height": 121
        },
        "outputId": "41f9abb4-1eef-4233-dcf3-b39539181469"
      },
      "source": [
        "# os.chdir(\"D:\\Datasets\\deepsat-sat6\")\n",
        "\n",
        "from google.colab import drive\n",
        "drive.mount('/content/gdrive')\n"
      ],
      "execution_count": null,
      "outputs": [
        {
          "output_type": "stream",
          "text": [
            "Go to this URL in a browser: https://accounts.google.com/o/oauth2/auth?client_id=947318989803-6bn6qk8qdgf4n4g3pfee6491hc0brc4i.apps.googleusercontent.com&redirect_uri=urn%3aietf%3awg%3aoauth%3a2.0%3aoob&response_type=code&scope=email%20https%3a%2f%2fwww.googleapis.com%2fauth%2fdocs.test%20https%3a%2f%2fwww.googleapis.com%2fauth%2fdrive%20https%3a%2f%2fwww.googleapis.com%2fauth%2fdrive.photos.readonly%20https%3a%2f%2fwww.googleapis.com%2fauth%2fpeopleapi.readonly\n",
            "\n",
            "Enter your authorization code:\n",
            "··········\n",
            "Mounted at /content/gdrive\n"
          ],
          "name": "stdout"
        }
      ]
    },
    {
      "cell_type": "code",
      "metadata": {
        "id": "x8oycdicOMcU"
      },
      "source": [
        "root_path = 'gdrive/My Drive/BE_Datasets/deepsat-sat6/'\n",
        "x_train = pd.read_csv(tf.io.gfile.GFile(root_path + 'X_train_sat6.csv',mode='r'),header=None)\n",
        "y_train = pd.read_csv(tf.io.gfile.GFile(root_path + 'y_train_sat6.csv',mode='r'),header=None)\n",
        "x_train = x_train.values.reshape(x_train.shape[0],28,28,4).astype(np.float32)\n",
        "y_train = y_train.values.astype(np.float32)"
      ],
      "execution_count": null,
      "outputs": []
    },
    {
      "cell_type": "code",
      "metadata": {
        "id": "DEXbuZ0KOMcY"
      },
      "source": [
        "x_eval = pd.read_csv(tf.io.gfile.GFile(root_path + 'X_test_sat6.csv',mode='r'),header=None)\n",
        "y_eval = pd.read_csv(tf.io.gfile.GFile(root_path + 'y_test_sat6.csv',mode='r'),header=None)\n",
        "x_eval = x_eval.values.reshape(x_eval.shape[0],28,28,4).astype(np.float32)\n",
        "y_eval = y_eval.values.astype(np.float32)"
      ],
      "execution_count": null,
      "outputs": []
    },
    {
      "cell_type": "code",
      "metadata": {
        "id": "qvLb0VRcOMcc"
      },
      "source": [
        "model = keras.Sequential([\n",
        "    Conv2D(16, 3, padding = 'same', activation = 'relu', input_shape=(28,28,4)),\n",
        "    Conv2D(32, 3, padding = 'same', activation = 'relu'),\n",
        "    MaxPooling2D(),\n",
        "    Dropout(0.5),\n",
        "    Conv2D(32, 3, padding = 'same', activation = 'relu'),\n",
        "    MaxPooling2D(),\n",
        "    Conv2D(64, 3, padding = 'same', activation = 'relu'),\n",
        "    MaxPooling2D(),\n",
        "    Dropout(0.5),\n",
        "    Flatten(),\n",
        "    Dense(512, activation = 'relu'),\n",
        "    Dropout(0.5),\n",
        "    Dense(6,activation = 'softmax')\n",
        "\n",
        "])"
      ],
      "execution_count": null,
      "outputs": []
    },
    {
      "cell_type": "code",
      "metadata": {
        "id": "M-uV-sVoOMcg"
      },
      "source": [
        "model.compile(loss = 'categorical_crossentropy', optimizer = 'adam', metrics = ['accuracy'])"
      ],
      "execution_count": null,
      "outputs": []
    },
    {
      "cell_type": "code",
      "metadata": {
        "id": "FnwSTilJOMck",
        "colab": {
          "base_uri": "https://localhost:8080/",
          "height": 605
        },
        "outputId": "f17d582c-f7d9-4964-b936-f22cd8d28d47"
      },
      "source": [
        "print(model.summary())"
      ],
      "execution_count": null,
      "outputs": [
        {
          "output_type": "stream",
          "text": [
            "Model: \"sequential\"\n",
            "_________________________________________________________________\n",
            "Layer (type)                 Output Shape              Param #   \n",
            "=================================================================\n",
            "conv2d (Conv2D)              (None, 28, 28, 16)        592       \n",
            "_________________________________________________________________\n",
            "conv2d_1 (Conv2D)            (None, 28, 28, 32)        4640      \n",
            "_________________________________________________________________\n",
            "max_pooling2d (MaxPooling2D) (None, 14, 14, 32)        0         \n",
            "_________________________________________________________________\n",
            "dropout (Dropout)            (None, 14, 14, 32)        0         \n",
            "_________________________________________________________________\n",
            "conv2d_2 (Conv2D)            (None, 14, 14, 32)        9248      \n",
            "_________________________________________________________________\n",
            "max_pooling2d_1 (MaxPooling2 (None, 7, 7, 32)          0         \n",
            "_________________________________________________________________\n",
            "conv2d_3 (Conv2D)            (None, 7, 7, 64)          18496     \n",
            "_________________________________________________________________\n",
            "max_pooling2d_2 (MaxPooling2 (None, 3, 3, 64)          0         \n",
            "_________________________________________________________________\n",
            "dropout_1 (Dropout)          (None, 3, 3, 64)          0         \n",
            "_________________________________________________________________\n",
            "flatten (Flatten)            (None, 576)               0         \n",
            "_________________________________________________________________\n",
            "dense (Dense)                (None, 512)               295424    \n",
            "_________________________________________________________________\n",
            "dropout_2 (Dropout)          (None, 512)               0         \n",
            "_________________________________________________________________\n",
            "dense_1 (Dense)              (None, 6)                 3078      \n",
            "=================================================================\n",
            "Total params: 331,478\n",
            "Trainable params: 331,478\n",
            "Non-trainable params: 0\n",
            "_________________________________________________________________\n",
            "None\n"
          ],
          "name": "stdout"
        }
      ]
    },
    {
      "cell_type": "code",
      "metadata": {
        "id": "7R41MXmQOMco",
        "colab": {
          "base_uri": "https://localhost:8080/",
          "height": 185
        },
        "outputId": "037eeb3a-018d-44f0-aebc-eb82c0ea709c"
      },
      "source": [
        "tensorboard_cb =  tf.keras.callbacks.TensorBoard(log_dir = './Graph/', histogram_freq = 1, write_graph = True, write_grads = True)\n",
        "model.fit(x_train, y_train, batch_size = 512, epochs = 4, verbose = 1, validation_data=(x_eval,y_eval), callbacks = [tensorboard_cb])\n"
      ],
      "execution_count": null,
      "outputs": [
        {
          "output_type": "stream",
          "text": [
            "WARNING:tensorflow:`write_grads` will be ignored in TensorFlow 2.0 for the `TensorBoard` Callback.\n",
            "Epoch 1/4\n",
            "633/633 [==============================] - 302s 477ms/step - loss: 0.4559 - accuracy: 0.9011 - val_loss: 0.1042 - val_accuracy: 0.9608\n",
            "Epoch 2/4\n",
            "633/633 [==============================] - 296s 468ms/step - loss: 0.0941 - accuracy: 0.9653 - val_loss: 0.0941 - val_accuracy: 0.9623\n",
            "Epoch 3/4\n",
            "633/633 [==============================] - 297s 469ms/step - loss: 0.0733 - accuracy: 0.9735 - val_loss: 0.0750 - val_accuracy: 0.9715\n",
            "Epoch 4/4\n",
            "633/633 [==============================] - 296s 467ms/step - loss: 0.0664 - accuracy: 0.9760 - val_loss: 0.1175 - val_accuracy: 0.9504\n"
          ],
          "name": "stdout"
        },
        {
          "output_type": "execute_result",
          "data": {
            "text/plain": [
              "<tensorflow.python.keras.callbacks.History at 0x7f129a7b3048>"
            ]
          },
          "metadata": {
            "tags": []
          },
          "execution_count": 10
        }
      ]
    },
    {
      "cell_type": "code",
      "metadata": {
        "id": "unCKahLTjkoa",
        "colab": {
          "base_uri": "https://localhost:8080/",
          "height": 178
        },
        "outputId": "345ed8be-4342-4fde-c62c-722659a61abe"
      },
      "source": [
        "model.save('gdrive/My Drive/BE_Datasets/LandscapeModel')\n",
        "model.describe()"
      ],
      "execution_count": null,
      "outputs": [
        {
          "output_type": "error",
          "ename": "NameError",
          "evalue": "ignored",
          "traceback": [
            "\u001b[0;31m---------------------------------------------------------------------------\u001b[0m",
            "\u001b[0;31mNameError\u001b[0m                                 Traceback (most recent call last)",
            "\u001b[0;32m<ipython-input-1-1c58623abce1>\u001b[0m in \u001b[0;36m<module>\u001b[0;34m()\u001b[0m\n\u001b[0;32m----> 1\u001b[0;31m \u001b[0mmodel\u001b[0m\u001b[0;34m.\u001b[0m\u001b[0msave\u001b[0m\u001b[0;34m(\u001b[0m\u001b[0;34m'gdrive/My Drive/BE_Datasets/LandscapeModel'\u001b[0m\u001b[0;34m)\u001b[0m\u001b[0;34m\u001b[0m\u001b[0;34m\u001b[0m\u001b[0m\n\u001b[0m\u001b[1;32m      2\u001b[0m \u001b[0mmodel\u001b[0m\u001b[0;34m.\u001b[0m\u001b[0mdescribe\u001b[0m\u001b[0;34m(\u001b[0m\u001b[0;34m)\u001b[0m\u001b[0;34m\u001b[0m\u001b[0;34m\u001b[0m\u001b[0m\n",
            "\u001b[0;31mNameError\u001b[0m: name 'model' is not defined"
          ]
        }
      ]
    },
    {
      "cell_type": "code",
      "metadata": {
        "id": "hHFx4QlONg8J",
        "colab": {
          "base_uri": "https://localhost:8080/",
          "height": 34
        },
        "outputId": "3c78546e-a919-4298-b3f4-19ac44878ab3"
      },
      "source": [
        "# tX, tY = pd.read_csv('D:\\Datasets\\deepsat-sat6\\X_train_sat6.csv', 16)\n",
        "from matplotlib import pyplot\n",
        "print(x_train.shape, y_train.shape)\n",
        "fig, m_axs = pyplot.subplots(4, x_train.shape[0]//4, figsize = (12, 12))\n",
        "for (x, y, c_ax) in zip(tX, y_train, m_axs.flatten()):\n",
        "    c_ax.imshow(x[:,:,:3],\n",
        "                interpolation = 'none')\n",
        "    c_ax.axis('off')\n",
        "    c_ax.set_title('Cat:{}'.format(y))"
      ],
      "execution_count": null,
      "outputs": [
        {
          "output_type": "stream",
          "text": [
            "(324000, 28, 28, 4) (324000, 6)\n"
          ],
          "name": "stdout"
        }
      ]
    },
    {
      "cell_type": "code",
      "metadata": {
        "id": "PkbgXM4AGIOW"
      },
      "source": [],
      "execution_count": null,
      "outputs": []
    }
  ]
}