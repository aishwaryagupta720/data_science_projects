{
  "nbformat": 4,
  "nbformat_minor": 0,
  "metadata": {
    "colab": {
      "provenance": []
    },
    "kernelspec": {
      "name": "python3",
      "display_name": "Python 3"
    }
  },
  "cells": [
    {
      "cell_type": "code",
      "metadata": {
        "id": "VubS0A2mqsqN",
        "colab": {
          "base_uri": "https://localhost:8080/",
          "height": 54
        },
        "outputId": "4574af79-47fe-4659-c8f5-1369ed5a252a"
      },
      "source": [
        "import requests\n",
        "def getwaether(cor):\n",
        "    api='30982862bf6ecbbbac2bfe22a3551a6c'\n",
        "    url = 'http://api.openweathermap.org/data/2.5/weather?lat={0}&lon={1}&units=standard&appid={2}'.format(cor[0], cor[1], api)\n",
        "    url = '    https://api.darksky.net/forecast/[key]/[latitude],[longitude],[time]'.format(cor[0], cor[1], api)\n",
        "\n",
        "    weather_r=requests.get(url)\n",
        "    weather_j=weather_r.json()\n",
        "    return weather_j\n",
        "lat= 18.5204\n",
        "lon= 73.8567\n",
        "c_weather = getwaether([lat,lon])\n",
        "print(c_weather)"
      ],
      "execution_count": null,
      "outputs": [
        {
          "output_type": "stream",
          "text": [
            "{'coord': {'lon': 73.86, 'lat': 18.52}, 'weather': [{'id': 800, 'main': 'Clear', 'description': 'clear sky', 'icon': '01d'}], 'base': 'stations', 'main': {'temp': 309.15, 'feels_like': 301.88, 'temp_min': 309.15, 'temp_max': 309.15, 'pressure': 1007, 'humidity': 12, 'sea_level': 1007, 'grnd_level': 947}, 'wind': {'speed': 8.02, 'deg': 303}, 'clouds': {'all': 4}, 'dt': 1587471681, 'sys': {'country': 'IN', 'sunrise': 1587429791, 'sunset': 1587475373}, 'timezone': 19800, 'id': 8131502, 'name': 'Satara', 'cod': 200}\n"
          ],
          "name": "stdout"
        }
      ]
    },
    {
      "cell_type": "code",
      "metadata": {
        "id": "03Z8hFwMq5N3"
      },
      "source": [],
      "execution_count": null,
      "outputs": []
    }
  ]
}